{
 "cells": [
  {
   "cell_type": "code",
   "execution_count": null,
   "id": "64f5de84-abc1-46ed-a938-dbea80f520e6",
   "metadata": {},
   "outputs": [],
   "source": [
    "import numpy as np\n",
    "import pandas as pd\n",
    "import plotly.express as px\n",
    "from pathlib import Path\n",
    "from datetime import datetime as dt\n",
    "import time, os\n",
    "from sklearn.metrics import confusion_matrix, classification_report, accuracy_score, f1_score, roc_auc_score, roc_curve, balanced_accuracy_score\n",
    "from sklearn.preprocessing import StandardScaler, TargetEncoder\n",
    "from sklearn.model_selection import train_test_split, GridSearchCV\n",
    "from sklearn.linear_model import LogisticRegression\n",
    "from sklearn.svm import SVC \n",
    "from sklearn.ensemble import RandomForestClassifier\n",
    "from xgboost import XGBClassifier\n",
    "#import custom functions for feature engineering and parameter tuning\n",
    "from src.fraud import gen_cm_cr, get_distance, get_region, print_dataframe, refit_strategy\n",
    "import warnings\n",
    "warnings.filterwarnings('ignore')"
   ]
  },
  {
   "cell_type": "code",
   "execution_count": null,
   "id": "bf4cfbde-5a88-4d93-b752-7d5f5b084e12",
   "metadata": {},
   "outputs": [],
   "source": [
    "#importing dataset\n",
    "fraud_test_df = pd.read_csv('Resources/fraud test.csv')"
   ]
  },
  {
   "cell_type": "code",
   "execution_count": null,
   "id": "6d4635ff-82f0-4200-ae25-d536d6328703",
   "metadata": {},
   "outputs": [],
   "source": [
    "#reviewing distribution of the target class\n",
    "ycounts = pd.DataFrame(fraud_test_df['is_fraud'].value_counts())\n",
    "ycounts['Class']=['Legitmate', 'Fraudulent']\n",
    "ycounts.set_index('Class', inplace = True)\n",
    "fig = px.bar(ycounts, title='Distribution of the Target Class for the Transactions', text='value')\n",
    "fig.show()"
   ]
  },
  {
   "cell_type": "markdown",
   "id": "1d3208aa-4bac-49a2-90f8-18ff14b35f71",
   "metadata": {},
   "source": [
    "Methods for dealing with the high imbalance in the target class will be of primary importance in this analysis"
   ]
  },
  {
   "cell_type": "markdown",
   "id": "94c2b7f0-952b-41ac-9b25-2a4507acb3f3",
   "metadata": {},
   "source": [
    "# Preprocessing and Feature Engineering\n",
    "A number of additional features wre extracted from the data as part of feature engineering in parictular:  \n",
    "1. Cardholder 'Age' was extracted from the DOB feature.\n",
    "2. Distance_km: the distance between the card holder location ('lat', 'long') and the merchant location ('merch_lat' and 'merch_long')\n",
    "3. The number of 'Job' categories was reduced to remove classes with very few candidates.\n",
    "4. A feature called 'region' which mapped each state to a region according to the  U.S. Bureau of Economic Analysis was added to which the aggregated features from each state were catagorized.\n",
    "5. The 'amt' feature (transaction amount) was reviewed and found to have very high dispersion.  "
   ]
  },
  {
   "cell_type": "code",
   "execution_count": null,
   "id": "cdd1daf3-cf01-4d49-bc0b-e622f6278f36",
   "metadata": {},
   "outputs": [],
   "source": [
    "# moving the Unnamed column to the index and renaming it 'ID'\n",
    "fraud_test_df.rename(columns={'Unnamed: 0':'ID'}, inplace=True)\n",
    "fraud_test_df.set_index('ID', inplace=True, drop=True, verify_integrity ='True')"
   ]
  },
  {
   "cell_type": "code",
   "execution_count": null,
   "id": "3031ffac-a6a1-4aba-af7f-61188c0964f1",
   "metadata": {},
   "outputs": [],
   "source": [
    "#creating cardholder age feature\n",
    "fraud_test_df['date_dob'] = pd.to_datetime(fraud_test_df['dob'], format='%d/%m/%Y')\n",
    "fraud_test_df['dt_trans_date_time'] = pd.to_datetime(fraud_test_df['trans_date_trans_time'], format='%d/%m/%Y %H:%M')\n",
    "fraud_test_df['age_years'] = (dt.today()- fraud_test_df['date_dob'])/pd.Timedelta('365 days')\n"
   ]
  },
  {
   "cell_type": "code",
   "execution_count": null,
   "id": "a531ee08-279a-478e-9fe3-dcf0b77a3530",
   "metadata": {},
   "outputs": [],
   "source": [
    "#amount column covers a very large range so converting to log-space\n",
    "fig = px.violin(fraud_test_df['amt'], box=True, orientation = 'h', title = 'Transaction Amount')\n",
    "fig.show()\n",
    "\n",
    "myEpsilon = 0.001\n",
    "fraud_test_df['log_amount'] = np.log(fraud_test_df['amt']+myEpsilon)\n",
    "fig1 = px.violin(fraud_test_df['log_amount'], box = True, orientation = 'h', title = 'Log of Transaction Amount')\n",
    "fig1.show()"
   ]
  },
  {
   "cell_type": "code",
   "execution_count": null,
   "id": "889695ad-ad33-43de-abdb-732d7be75e9f",
   "metadata": {},
   "outputs": [],
   "source": [
    "#creating distance between cardholder and merchant feature and economic region feature from the state abbreviation.\n",
    "for index, row in fraud_test_df.iterrows():\n",
    "    fraud_test_df.at[index, 'distance_km'] = get_distance(row['lat'], row['long'], row['merch_lat'], row['merch_long'])[0][1]\n",
    "    fraud_test_df.at[index, 'region'] = get_region(row['state'])"
   ]
  },
  {
   "cell_type": "code",
   "execution_count": null,
   "id": "9774eec9-d290-4a94-a9d0-47711afd89ab",
   "metadata": {},
   "outputs": [],
   "source": [
    "# collapsing job categories to 'other' category for any category with fewer than 225 entries\n",
    "job_counts=fraud_test_df['job'].value_counts()\n",
    "job_counts_df = job_counts.to_frame(name='counts')\n",
    "for index, row in job_counts_df.iterrows():\n",
    "    if job_counts_df.at[index, 'counts'] < 225:\n",
    "        fraud_test_df.loc[fraud_test_df['job'] == index, ['job']] = 'other'\n",
    "        "
   ]
  },
  {
   "cell_type": "code",
   "execution_count": null,
   "id": "09a5f5fb-add0-489b-89b6-277773c03e5d",
   "metadata": {},
   "outputs": [],
   "source": [
    "fraud_test_df['job'].value_counts()"
   ]
  },
  {
   "cell_type": "code",
   "execution_count": null,
   "id": "c4d9e17f-07a7-40cc-b87f-61c921a039e5",
   "metadata": {},
   "outputs": [],
   "source": [
    "fraud_test_df['merchant'].value_counts()"
   ]
  },
  {
   "cell_type": "markdown",
   "id": "a67b9ad1-28ce-4f3b-a92f-79124e5371f6",
   "metadata": {},
   "source": [
    "## Feature Encoding\n",
    "1. get_dummies/one_hot_encoders: Gender, region\n",
    "3. Target_encoder:  city, state, jobs, merchant, cc_num  "
   ]
  },
  {
   "cell_type": "code",
   "execution_count": null,
   "id": "98d9b44f-413c-417d-b54f-c06125fed42d",
   "metadata": {},
   "outputs": [],
   "source": [
    "y = fraud_test_df['is_fraud']\n",
    "X = fraud_test_df.copy()"
   ]
  },
  {
   "cell_type": "code",
   "execution_count": null,
   "id": "5d29746d-2e62-45eb-9534-281e06676e0b",
   "metadata": {},
   "outputs": [],
   "source": [
    "dummies= pd.get_dummies(X[['category','gender', 'region']])"
   ]
  },
  {
   "cell_type": "code",
   "execution_count": null,
   "id": "aa02cc2a-403b-4974-b488-dc14e0b9c3bb",
   "metadata": {},
   "outputs": [],
   "source": [
    "dummy_columns = dummies.columns.tolist()\n",
    "X[dummy_columns] = dummies[dummy_columns]"
   ]
  },
  {
   "cell_type": "code",
   "execution_count": null,
   "id": "8465fab3-303d-4f3d-8719-c9bd74e41d74",
   "metadata": {},
   "outputs": [],
   "source": [
    "X.drop(['is_fraud', 'amt', 'category', 'cc_num', 'state', 'city', 'city_pop', 'date_dob', 'gender', 'first', 'last', 'street', 'dob', 'trans_date_trans_time', 'dt_trans_date_time', 'lat', 'long', 'merch_lat', 'merch_long', 'trans_num', 'unix_time', 'region'], axis=1, inplace=True)\n"
   ]
  },
  {
   "cell_type": "code",
   "execution_count": null,
   "id": "9daf5e8d-329a-49a0-8d04-5492ebe9b214",
   "metadata": {},
   "outputs": [],
   "source": [
    "X.head()"
   ]
  },
  {
   "cell_type": "markdown",
   "id": "f0d81272-5f62-406f-889e-d703f73881f9",
   "metadata": {},
   "source": [
    "## Splitting Training and Testing data"
   ]
  },
  {
   "cell_type": "code",
   "execution_count": null,
   "id": "584a65f1-25ce-40d2-aff3-cc54159d4e2a",
   "metadata": {},
   "outputs": [],
   "source": [
    "X_train, X_test, y_train, y_test = train_test_split(X, y, random_state=1)\n",
    "\n"
   ]
  },
  {
   "cell_type": "code",
   "execution_count": null,
   "id": "66edd114-22d0-4455-9022-309e5ebc8891",
   "metadata": {},
   "outputs": [],
   "source": [
    "# creating Target Encoder with only the training features and training targets\n",
    "myEncoder = TargetEncoder(random_state = 1)\n",
    "X_train_encoded = myEncoder.fit_transform(X_train[['merchant', 'job' ]], y_train)\n",
    "X_test_encoded = myEncoder.transform(X_test[['merchant', 'job' ]])"
   ]
  },
  {
   "cell_type": "code",
   "execution_count": null,
   "id": "adfb5dd7-5b4a-4906-b110-9aec7620e28d",
   "metadata": {},
   "outputs": [],
   "source": [
    "#checking the distribution of the labels by set to ensure reasonable distribution.\n",
    "print(f'Average class probability in data set:    {y.mean()*100:.4f}%')\n",
    "print(f'Average class probability in training set: {y_train.mean()*100:.4f}%') \n",
    "print(f'Average class probability in test set:     {y_test.mean()*100:.4f}%')"
   ]
  },
  {
   "cell_type": "code",
   "execution_count": null,
   "id": "8e82091a-5fd8-4723-9186-1d4efcd59583",
   "metadata": {},
   "outputs": [],
   "source": [
    "X_train_enc_df=X_train.copy()\n",
    "X_test_enc_df=X_test.copy()\n",
    "X_train_enc_df[['merchant', 'job' ]]=X_train_encoded\n",
    "X_test_enc_df[['merchant',  'job' ]]=X_test_encoded"
   ]
  },
  {
   "cell_type": "code",
   "execution_count": null,
   "id": "1022d71a-581d-4d42-9cbe-8ef85c366417",
   "metadata": {},
   "outputs": [],
   "source": [
    "y_test.value_counts()"
   ]
  },
  {
   "cell_type": "code",
   "execution_count": null,
   "id": "fd1ec035-c115-4f4f-9ae3-845cada626be",
   "metadata": {},
   "outputs": [],
   "source": [
    "#writing out encoded file for sharing\n",
    "# fraud_encoded_df.to_csv('G:\\My Drive\\Boot Camp\\Project_4\\\\fraud_test_encoded.csv', sep =',')"
   ]
  },
  {
   "cell_type": "code",
   "execution_count": null,
   "id": "3a8e44cb-4eb5-42bc-bb4b-a381406cb95a",
   "metadata": {},
   "outputs": [],
   "source": [
    "# putting feature column names into a list for later use\n",
    "X_train_col = X_train_enc_df.columns.tolist()\n",
    "X_train_col"
   ]
  },
  {
   "cell_type": "markdown",
   "id": "45c4c256-bbf8-402f-8f1d-e8618a233191",
   "metadata": {},
   "source": [
    "## Scale the training and testing features"
   ]
  },
  {
   "cell_type": "code",
   "execution_count": null,
   "id": "68c2d8ef-cce2-4126-bf8a-9f4eb7ea5623",
   "metadata": {},
   "outputs": [],
   "source": [
    "scaler=StandardScaler()"
   ]
  },
  {
   "cell_type": "code",
   "execution_count": null,
   "id": "1dad843f-bf50-4e14-b24a-a91518522bee",
   "metadata": {},
   "outputs": [],
   "source": [
    "X_train_enc_scaled=scaler.fit_transform(X_train_enc_df)\n",
    "X_test_enc_scaled = scaler.transform(X_test_enc_df)"
   ]
  },
  {
   "cell_type": "code",
   "execution_count": null,
   "id": "e80e7789-1f4f-4f85-a9e3-2b112e7ca37f",
   "metadata": {},
   "outputs": [],
   "source": [
    "X_train_enc_scaled_df = pd.DataFrame(X_train_enc_scaled, columns=X_train_col)\n",
    "X_test_enc_scaled_df = pd.DataFrame(X_test_enc_scaled, columns=X_train_col)"
   ]
  },
  {
   "cell_type": "code",
   "execution_count": null,
   "id": "913c85eb-f3c6-4598-87ca-b03224f726f9",
   "metadata": {},
   "outputs": [],
   "source": [
    "X_train_enc_scaled_df.head()"
   ]
  },
  {
   "cell_type": "code",
   "execution_count": null,
   "id": "3548336c-f31a-4dbf-ab86-7af681e2e4ae",
   "metadata": {},
   "outputs": [],
   "source": [
    "#Reviewing the distribution of y_postitive and y_negative lables.\n",
    "scatter_df=X_test_enc_scaled_df.copy()\n",
    "scatter_df['is_fraud']=y_test\n",
    "fig3 = px.scatter(scatter_df.loc[scatter_df['is_fraud'] == 1], \n",
    "           x='age_years', \n",
    "           y='log_amount', \n",
    "           color='is_fraud', \n",
    "           marginal_y = 'histogram', \n",
    "           marginal_x = 'histogram',\n",
    "           title = 'Distribution y_positive',\n",
    "           template='plotly_white',\n",
    "           width=800, height=600)\n",
    "fig3.update_layout(coloraxis_showscale=False)\n",
    "\n",
    "fig3.show()\n",
    "\n",
    "fig4=px.scatter(scatter_df.loc[scatter_df['is_fraud'] == 0], \n",
    "           x='age_years', \n",
    "           y='log_amount', \n",
    "           color='is_fraud', \n",
    "           marginal_y = 'histogram', \n",
    "           marginal_x = 'histogram', \n",
    "           title = 'Distribution of y_negative',\n",
    "           template='plotly_white',\n",
    "           width=800, height=600)\n",
    "fig4.update_layout(coloraxis_showscale=False)\n",
    "\n",
    "fig4.show()"
   ]
  },
  {
   "cell_type": "code",
   "execution_count": null,
   "id": "df4bcdc2-9760-4065-bb69-1e2ac748e3be",
   "metadata": {
    "scrolled": true
   },
   "outputs": [],
   "source": [
    "# Purposely commented out due to overhead used for feature assessment\n",
    "## reviewing the distribution of continous features\n",
    "i=0\n",
    "for feature in X_train_col:\n",
    "    if i<5:\n",
    "        fig = px.violin(X_train_enc_scaled_df[feature], box=True, orientation = 'h', title = feature)\n",
    "        fig.show()\n",
    "    i=i+1\n",
    "    \n"
   ]
  },
  {
   "cell_type": "markdown",
   "id": "949f1612-30f8-429b-b453-8358bccef8b3",
   "metadata": {},
   "source": [
    "# Models Under Review"
   ]
  },
  {
   "cell_type": "markdown",
   "id": "0f786f11-4c0e-4bfe-9232-dfdc7184e5a7",
   "metadata": {},
   "source": [
    "## Create a Logistic Regression Classifier"
   ]
  },
  {
   "cell_type": "code",
   "execution_count": null,
   "id": "8ec6bbea-99fd-436e-83bd-27e5312e94cf",
   "metadata": {},
   "outputs": [],
   "source": [
    "log_model = LogisticRegression(random_state=1)"
   ]
  },
  {
   "cell_type": "code",
   "execution_count": null,
   "id": "7754ec5d-8970-4aa3-9ddc-0b0a606595b8",
   "metadata": {},
   "outputs": [],
   "source": [
    "start_time = time.time()\n",
    "\n",
    "log_model.fit(X_train_enc_scaled_df, y_train)\n",
    "\n",
    "print(\"--- %s seconds ---\" % (time.time() - start_time))"
   ]
  },
  {
   "cell_type": "code",
   "execution_count": null,
   "id": "577233ba-5e45-4d61-b65d-25ccd27d6fb9",
   "metadata": {},
   "outputs": [],
   "source": [
    "y_pred=log_model.predict(X_test_enc_scaled_df)"
   ]
  },
  {
   "cell_type": "code",
   "execution_count": null,
   "id": "5875ae90-726a-434a-afa6-5321b7b3bf44",
   "metadata": {},
   "outputs": [],
   "source": [
    "gen_cm_cr('LogisticRegression', y_test, y_pred)"
   ]
  },
  {
   "cell_type": "markdown",
   "id": "39ae33ec-06aa-492f-9705-0edd4ffadf82",
   "metadata": {},
   "source": [
    "## Create a Non-Linear Support Vector Machine Classifier"
   ]
  },
  {
   "cell_type": "code",
   "execution_count": null,
   "id": "85f14337-cac8-4809-8855-f7cd9a0b3f4e",
   "metadata": {},
   "outputs": [],
   "source": [
    "SVCmodel = SVC(kernel='rbf', random_state=1)"
   ]
  },
  {
   "cell_type": "code",
   "execution_count": null,
   "id": "b84dbac2-d435-4aad-a2a4-0ea76efef30c",
   "metadata": {
    "scrolled": true
   },
   "outputs": [],
   "source": [
    "start_time = time.time()\n",
    "\n",
    "SVCmodel.fit(X_train_enc_scaled_df, y_train)\n",
    "\n",
    "print(\"--- %s seconds ---\" % (time.time() - start_time))"
   ]
  },
  {
   "cell_type": "code",
   "execution_count": null,
   "id": "7b6c91d7-2a6b-4bcb-a1e9-097f7293959b",
   "metadata": {},
   "outputs": [],
   "source": [
    "y_pred = SVCmodel.predict(X_test_enc_scaled_df)"
   ]
  },
  {
   "cell_type": "code",
   "execution_count": null,
   "id": "8b7e920d-db85-453e-83c4-e085d3e7f24e",
   "metadata": {},
   "outputs": [],
   "source": [
    "gen_cm_cr('SVM with kernal rbf', y_test, y_pred)"
   ]
  },
  {
   "cell_type": "markdown",
   "id": "959b66d4-88f0-425a-aac7-3fdea08d1125",
   "metadata": {},
   "source": [
    "## Create a Random Forest Classifier Model"
   ]
  },
  {
   "cell_type": "code",
   "execution_count": null,
   "id": "2dfb5304-f745-4e8f-b585-079058c24502",
   "metadata": {},
   "outputs": [],
   "source": [
    "# Create a random forest classifier\n",
    "rf_model = RandomForestClassifier(n_estimators=750, random_state=1)"
   ]
  },
  {
   "cell_type": "code",
   "execution_count": null,
   "id": "a5899d19-ce07-47a9-a022-bf6ef5a25736",
   "metadata": {},
   "outputs": [],
   "source": [
    "# Fitting the model\n",
    "start_time = time.time()\n",
    "rf_model = rf_model.fit(X_train_enc_scaled, y_train)\n",
    "print(\"--- %s seconds ---\" % (time.time() - start_time))"
   ]
  },
  {
   "cell_type": "code",
   "execution_count": null,
   "id": "c764fa08-e8f9-45a5-9682-82c77547b40b",
   "metadata": {},
   "outputs": [],
   "source": [
    "# Making predictions using the testing data\n",
    "y_pred = rf_model.predict(X_test_enc_scaled)"
   ]
  },
  {
   "cell_type": "code",
   "execution_count": null,
   "id": "8f9a103f-d2b0-42c0-b4e7-b9187fabe9dd",
   "metadata": {},
   "outputs": [],
   "source": [
    "gen_cm_cr('RandomForestClasssifer', y_test, y_pred)"
   ]
  },
  {
   "cell_type": "code",
   "execution_count": null,
   "id": "abe3f54f-9de4-49e2-8b94-5a961facc8cf",
   "metadata": {},
   "outputs": [],
   "source": [
    "# Random Forests in sklearn will automatically calculate feature importance\n",
    "importances = rf_model.feature_importances_\n",
    "# We can sort the features by their importance\n",
    "sorted(zip(rf_model.feature_importances_, X.columns), reverse=True)"
   ]
  },
  {
   "cell_type": "code",
   "execution_count": null,
   "id": "3e371a40-3cea-4fd7-9bbf-5680f634fb41",
   "metadata": {},
   "outputs": [],
   "source": [
    "# Visualize the features by importance\n",
    "importances_df = pd.DataFrame(sorted(zip(rf_model.feature_importances_, X.columns), reverse=True))\n",
    "importances_df.set_index(importances_df[1], inplace=True)\n",
    "importances_df.drop(columns=1, inplace=True)\n",
    "importances_df.rename(columns={0: 'Feature Importances'}, inplace=True)\n",
    "importances_sorted = importances_df.sort_values(by='Feature Importances')\n",
    "fig = px.bar(importances_sorted, \n",
    "             x='Feature Importances', \n",
    "             y=importances_sorted.index, orientation='h', \n",
    "             title='Random Forest Classifier',\n",
    "            width=800, height=600)\n",
    "fig.show()\n"
   ]
  },
  {
   "cell_type": "markdown",
   "id": "7b8b7076-ef47-438d-9270-7734c20733bb",
   "metadata": {},
   "source": [
    "## Create XGBoost Classifier"
   ]
  },
  {
   "cell_type": "code",
   "execution_count": null,
   "id": "cb459ab3-8b8c-4dc0-8f7d-ffae75e96609",
   "metadata": {},
   "outputs": [],
   "source": [
    "# Calculating the ratio of postitive labels to negative labels for weight scaling given the very high imbalance in 0 and 1 labels.\n",
    "y_dist = y_train.value_counts()\n",
    "my_scale_weight = 1/(y_dist[1]/y_dist[0])\n",
    "my_scale_weight = my_scale_weight.round()\n",
    "my_scale_weight"
   ]
  },
  {
   "cell_type": "code",
   "execution_count": null,
   "id": "eecafb86-9514-410c-b42a-cc9f2a2d312a",
   "metadata": {},
   "outputs": [],
   "source": [
    "BSTBaseModel = XGBClassifier(tree_method='auto',\n",
    "                          scale_pos_weight = my_scale_weight,\n",
    "                          objective='binary:logistic', \n",
    "                          random_state = 1)"
   ]
  },
  {
   "cell_type": "code",
   "execution_count": null,
   "id": "c18ad12f-d282-45da-9ba2-fcfba57a6f5d",
   "metadata": {},
   "outputs": [],
   "source": [
    "start_time = time.time()\n",
    "\n",
    "BSTBaseModel = BSTBaseModel.fit(X_train_enc_scaled, y_train)\n",
    "\n",
    "print(\"--- %s seconds ---\" % (time.time() - start_time))"
   ]
  },
  {
   "cell_type": "code",
   "execution_count": null,
   "id": "74aec1a6-7b06-4608-a83b-027b684419fd",
   "metadata": {},
   "outputs": [],
   "source": [
    "BST0importances = BSTBaseModel.feature_importances_\n",
    "# We can sort the features by their importance\n",
    "sorted(zip(BSTBaseModel.feature_importances_, X.columns), reverse=True)\n"
   ]
  },
  {
   "cell_type": "code",
   "execution_count": null,
   "id": "e09d9122-bd44-4209-8928-68e21279df17",
   "metadata": {},
   "outputs": [],
   "source": [
    "BSTimportances_df = pd.DataFrame(sorted(zip(BSTBaseModel.feature_importances_, X.columns), reverse=True))\n",
    "BSTimportances_df.set_index(BSTimportances_df[1], inplace=True)\n",
    "BSTimportances_df.drop(columns=1, inplace=True)\n",
    "BSTimportances_df.rename(columns={0: 'Feature Importances'}, inplace=True)\n",
    "BSTimportances_sorted = BSTimportances_df.sort_values(by='Feature Importances')\n",
    "fig = px.bar(BSTimportances_sorted,\n",
    "             x='Feature Importances', \n",
    "             y=BSTimportances_sorted.index, \n",
    "             orientation='h', \n",
    "             title='XGBoost Classifer - Base Model',\n",
    "            width=800, height=600)\n",
    "fig.show()"
   ]
  },
  {
   "cell_type": "code",
   "execution_count": null,
   "id": "7f93c69b-1a8a-43d5-8ee8-1fd05a0c105a",
   "metadata": {},
   "outputs": [],
   "source": [
    "y_pred=BSTBaseModel.predict(X_test_enc_scaled_df)\n"
   ]
  },
  {
   "cell_type": "code",
   "execution_count": null,
   "id": "1cc1b935-b084-48bb-8afd-70e1d2a6ed15",
   "metadata": {},
   "outputs": [],
   "source": [
    "gen_cm_cr('XGBoost Baseline Model', y_test, y_pred)"
   ]
  },
  {
   "cell_type": "markdown",
   "id": "040b4f92-f939-4ef3-b5af-f10fbc174c7a",
   "metadata": {},
   "source": [
    "## Tuning the XGBoost Base Model with a Parameter Tuner"
   ]
  },
  {
   "cell_type": "code",
   "execution_count": null,
   "id": "0a661355-97ba-4b9f-83fa-e7bd7c4c1451",
   "metadata": {},
   "outputs": [],
   "source": [
    "#scores to select best candidate \n",
    "scores =  ['balanced_accuracy', 'precision']\n",
    "#defining default parameters\n",
    "default_params={'scale_pos_weight':my_scale_weight, 'random_state': 1 }\n",
    "gparams = BSTBaseModel.get_params()\n",
    "for key in gparams.keys():\n",
    "    gp=gparams[key]\n",
    "    default_params[key] = [gp]"
   ]
  },
  {
   "cell_type": "code",
   "execution_count": null,
   "id": "64c9306c-434f-4551-a9db-d2f0b98f394d",
   "metadata": {},
   "outputs": [],
   "source": [
    "# tuning for n_estimators which equates to the number of boosting rounds and the max_depth of the tree\n",
    "param_grid = [\n",
    "    {'n_estimators':[32,64,128,256,512], 'max_depth' : [2, 4, 6, 8, 10, 12] },\n",
    "    ]"
   ]
  },
  {
   "cell_type": "code",
   "execution_count": null,
   "id": "c0211a06-d24b-4139-af3c-45d67ba5ea06",
   "metadata": {},
   "outputs": [],
   "source": [
    "start_time = time.time()\n",
    "error_score='raise'\n",
    "#Dictionary for collecting results\n",
    "grid_search = GridSearchCV(BSTBaseModel, param_grid, scoring=scores, refit=refit_strategy)\n",
    "grid_search.fit(X_train_enc_scaled, y_train)\n",
    "print(\"--- %s seconds ---\" % (time.time() - start_time))"
   ]
  },
  {
   "cell_type": "code",
   "execution_count": null,
   "id": "4a51a906-08b4-4153-9470-2b39bca77c47",
   "metadata": {},
   "outputs": [],
   "source": [
    "y_pred=grid_search.best_estimator_.predict(X_test_enc_scaled_df)"
   ]
  },
  {
   "cell_type": "code",
   "execution_count": null,
   "id": "0a0e7811-0920-44a3-9d91-218c0e083020",
   "metadata": {},
   "outputs": [],
   "source": [
    "gen_cm_cr('XGBoost Grid Search Best Model', y_test, y_pred)"
   ]
  },
  {
   "cell_type": "code",
   "execution_count": null,
   "id": "e6b7a448-4edf-476c-bab1-bc9683c3e38e",
   "metadata": {},
   "outputs": [],
   "source": [
    "Gridimportances_df = pd.DataFrame(sorted(zip(grid_search.best_estimator_.feature_importances_, X.columns), reverse=True))\n",
    "Gridimportances_df.set_index(Gridimportances_df[1], inplace=True)\n",
    "Gridimportances_df.drop(columns=1, inplace=True)\n",
    "Gridimportances_df.rename(columns={0: 'Feature Importances'}, inplace=True)\n",
    "Gridimportances_sorted = Gridimportances_df.sort_values(by='Feature Importances')\n",
    "fig = px.bar(Gridimportances_sorted,\n",
    "             x='Feature Importances', \n",
    "             y=Gridimportances_sorted.index, \n",
    "             orientation='h', \n",
    "             title='XGBoost Classifer - Best Model',\n",
    "            width=800, height=600)\n",
    "fig.show()"
   ]
  },
  {
   "cell_type": "code",
   "execution_count": null,
   "id": "664118f6-d838-4f58-9a98-c682a4cbcf26",
   "metadata": {},
   "outputs": [],
   "source": [
    "All_importance_df=importances_df.merge(BSTimportances_df,how='left', left_index=True, right_index=True)\n",
    "All_importance_df=All_importance_df.merge(Gridimportances_df,how='left', left_index=True, right_index=True)\n",
    "All_importance_df = All_importance_df.rename(columns={'Feature Importances_x': 'RandomForest', 'Feature Importances_y':'XGBoost Base', 'Feature Importances': 'XGBoost BEST'})\n",
    "All_importance_df.sort_values('XGBoost BEST', ascending=False, inplace=True)   \n",
    "All_importance_df"
   ]
  },
  {
   "cell_type": "code",
   "execution_count": null,
   "id": "1e705061-39c4-44d5-aade-ca7e3ddc0793",
   "metadata": {},
   "outputs": [],
   "source": [
    "All_importance_bar = px.imshow(All_importance_df, \n",
    "                            # orientation='h', \n",
    "                            # barmode='group', \n",
    "                            width=1000, height=800, \n",
    "                            title='Comparative Model Feature Importance',\n",
    "                            color_continuous_scale='turbo',\n",
    "                            # template='plotly_white'\n",
    "                            ) \n",
    "All_importance_bar.update({'layout':{'yaxis' : {'categoryorder':\"total descending\"}}})\n",
    "All_importance_bar.show()"
   ]
  },
  {
   "cell_type": "code",
   "execution_count": null,
   "id": "cca69336-ffa7-4db7-a216-52d197318c36",
   "metadata": {},
   "outputs": [],
   "source": []
  }
 ],
 "metadata": {
  "kernelspec": {
   "display_name": "Python 3 (ipykernel)",
   "language": "python",
   "name": "python3"
  },
  "language_info": {
   "codemirror_mode": {
    "name": "ipython",
    "version": 3
   },
   "file_extension": ".py",
   "mimetype": "text/x-python",
   "name": "python",
   "nbconvert_exporter": "python",
   "pygments_lexer": "ipython3",
   "version": "3.9.18"
  },
  "widgets": {
   "application/vnd.jupyter.widget-state+json": {
    "state": {},
    "version_major": 2,
    "version_minor": 0
   }
  }
 },
 "nbformat": 4,
 "nbformat_minor": 5
}
